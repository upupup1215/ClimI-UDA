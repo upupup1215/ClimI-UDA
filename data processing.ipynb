{
 "cells": [
  {
   "cell_type": "code",
   "execution_count": 54,
   "metadata": {},
   "outputs": [],
   "source": [
    "import os\n",
    "import rasterio as rio\n",
    "import numpy as np\n",
    "import pandas as pd\n",
    "import matplotlib.pyplot as plt"
   ]
  },
  {
   "cell_type": "markdown",
   "metadata": {},
   "source": [
    "# Step1 Extracting CV time series"
   ]
  },
  {
   "cell_type": "code",
   "execution_count": null,
   "metadata": {},
   "outputs": [],
   "source": [
    "cvtypepath = r'G:\\ClimVdata/'\n",
    "cvtypes = os.listdir(cvtypepath)\n",
    "years = [2017]\n",
    "sa = 'target'\n",
    "for cvtype in range(len(cvtypes)):\n",
    "    CV_paths = []\n",
    "    lsgrids = os.listdir(r'G:\\ClimVdata\\{}\\{}/'.format(cvtypes[cvtype],sa))\n",
    "    CV_path = r'G:\\ClimVdata\\{}\\{}/'.format(cvtypes[cvtype],sa)\n",
    "    for lsgrid in lsgrids:\n",
    "        for year in years:\n",
    "            CV_path_ = CV_path + lsgrid + '/' + str(year) + '/'\n",
    "            CV_filenames = os.listdir(CV_path_)\n",
    "            for CV_filename in CV_filenames:\n",
    "                CV_paths.append(CV_path_ + CV_filename)\n",
    "          \n",
    "    all_length = len(CV_paths)\n",
    "    nn = len(lsgrids)\n",
    "    print(\"CV TYPE:\",nn,'processing:',cvtypes[cvtype])\n",
    "    ii = int(all_length/nn)\n",
    "    for j in range(0,nn):\n",
    "        xxx = []\n",
    "        for i in range(0,ii):\n",
    "            CVdata = rio.open(CV_paths[j*ii+i]).read().astype('float')\n",
    "            CVdata[CVdata==0] = np.nan\n",
    "            CVdata[CVdata==32761] = np.nan \n",
    "            x = np.nanmean(CVdata)\n",
    "            xx = x.tolist()\n",
    "            xxx.append(xx)\n",
    "        save_path = CV_paths[j*ii+i].split('/')[0]+'/'+CV_paths[j*ii+i].split('/')[1]+'/'+CV_paths[j*ii+i].split('/')[2]\n",
    "#         print(save_path)\n",
    "        west_ts_doy = pd.DataFrame(xxx)\n",
    "        west_ts_doy.to_csv(save_path+'/'+'train_.csv',index = None,header=None)\n"
   ]
  },
  {
   "cell_type": "markdown",
   "metadata": {},
   "source": [
    "# Step 2 Cumulative days"
   ]
  },
  {
   "cell_type": "code",
   "execution_count": null,
   "metadata": {},
   "outputs": [],
   "source": [
    "cvtypepath = r'G:\\ClimVdata/'\n",
    "cvtypes = os.listdir(cvtypepath)\n",
    "sa = 'target'#target or source\n",
    "year = '2017'\n",
    "day = '4'\n",
    "for cvtype in range(len(cvtypes)):\n",
    "    gridpath =  r'G:\\ClimVdata\\{}\\{}'.format(cvtypes[cvtype],sa)\n",
    "    lsgrid = os.listdir(gridpath)\n",
    "    print(lsgrid)\n",
    "    for j in range(len(lsgrid)):\n",
    "        tspath = r'G:\\ClimVdata\\{}\\{}\\{}\\{}\\train_.csv'.format(cvtypes[cvtype],sa,lsgrid[j],year)\n",
    "        cvts = pd.read_csv(tspath,header=None)\n",
    "        length = cvts.shape[0]\n",
    "    #     print(length)\n",
    "        df = np.zeros((46,1))# SITS length\n",
    "        for i in range(0,46):\n",
    "            df[i,] = np.sum(cvts[0][8*i:4+8*i])#8 denotes interpolation interval,4 denotes cumulative day\n",
    "        df = df.reshape(46,)\n",
    "        df = pd.DataFrame(df) \n",
    "\n",
    "        output_dir = r'E:\\jupyter\\ClimI-UDA/ClimVs/{}day_{}/{}/{}'.format(day,sa,year,lsgrid[j])\n",
    "#         print(output_dir)\n",
    "        if not os.path.exists(output_dir):\n",
    "            os.makedirs(output_dir)\n",
    "        df.to_csv(r'E:\\jupyter\\ClimI-UDA/ClimVs/{}day_{}/{}/{}/{}_{}.csv'.format(day,sa,year,lsgrid[j],cvtypes[cvtype],lsgrid[j]),index = None,header=None)  \n",
    "    \n",
    "\n"
   ]
  },
  {
   "cell_type": "code",
   "execution_count": null,
   "metadata": {},
   "outputs": [],
   "source": []
  },
  {
   "cell_type": "code",
   "execution_count": null,
   "metadata": {},
   "outputs": [],
   "source": []
  }
 ],
 "metadata": {
  "kernelspec": {
   "display_name": "Python [conda env:gee]",
   "language": "python",
   "name": "conda-env-gee-py"
  },
  "language_info": {
   "codemirror_mode": {
    "name": "ipython",
    "version": 3
   },
   "file_extension": ".py",
   "mimetype": "text/x-python",
   "name": "python",
   "nbconvert_exporter": "python",
   "pygments_lexer": "ipython3",
   "version": "3.9.12"
  }
 },
 "nbformat": 4,
 "nbformat_minor": 4
}
