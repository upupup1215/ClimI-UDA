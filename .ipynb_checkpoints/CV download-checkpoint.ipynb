{
 "cells": [
  {
   "cell_type": "code",
   "execution_count": 7,
   "metadata": {},
   "outputs": [
    {
     "data": {
      "text/plain": [
       "1"
      ]
     },
     "execution_count": 7,
     "metadata": {},
     "output_type": "execute_result"
    }
   ],
   "source": [
    "import ee\n",
    "import geemap\n",
    "import os\n",
    "os.environ['HTTP_PROXY'] = 'http://127.0.0.1:10809'\n",
    "os.environ['HTTPS_PROXY'] = 'http://127.0.0.1:10809'\n",
    "ee.Authenticate()"
   ]
  },
  {
   "cell_type": "code",
   "execution_count": 8,
   "metadata": {},
   "outputs": [
    {
     "data": {
      "text/plain": [
       "1"
      ]
     },
     "execution_count": 8,
     "metadata": {},
     "output_type": "execute_result"
    }
   ],
   "source": [
    "ee.Initialize()\n",
    "m = geemap.Map()\n",
    "m"
   ]
  },
  {
   "cell_type": "markdown",
   "metadata": {},
   "source": [
    "# Grid setup"
   ]
  },
  {
   "cell_type": "code",
   "execution_count": 9,
   "metadata": {},
   "outputs": [
    {
     "data": {
      "text/plain": [
       "1"
      ]
     },
     "execution_count": 9,
     "metadata": {},
     "output_type": "execute_result"
    }
   ],
   "source": [
    "projxx = 'EPSG:32633'#proj\n",
    "kgrid = ['32633']\n",
    "gridcodes = ['530440']\n",
    "years = ['2017']"
   ]
  },
  {
   "cell_type": "code",
   "execution_count": 10,
   "metadata": {},
   "outputs": [
    {
     "data": {
      "text/plain": [
       "1"
      ]
     },
     "execution_count": 10,
     "metadata": {},
     "output_type": "execute_result"
    }
   ],
   "source": [
    "filenames = []\n",
    "for i in os.listdir(r'F:\\xx\\shppath'):#上传gee的shp，若是好几个县也可同时上传\n",
    "    filenames.append(i.split('.')[0])\n",
    "filenames = sorted(list(set(filenames)))\n",
    "filenames"
   ]
  },
  {
   "cell_type": "code",
   "execution_count": 11,
   "metadata": {},
   "outputs": [
    {
     "data": {
      "text/plain": [
       "1"
      ]
     },
     "execution_count": 11,
     "metadata": {},
     "output_type": "execute_result"
    }
   ],
   "source": [
    "%%time\n",
    "    \n",
    "for year in years:    \n",
    "    for filename in filenames:        \n",
    "        for gridcode in gridcodes:\n",
    "            output_dir = r'G:\\ClimVdata\\DEWTempimage\\' + filename +'\\\\'+str(gridcode)+ '\\\\' + str(year)#保存影像的路径\n",
    "            if not os.path.exists(output_dir):\n",
    "                os.makedirs(output_dir)\n",
    "            print(output_dir+'  Start！')\n",
    "            print(gridcode)\n",
    "            area = ee.FeatureCollection('users/hbwang/'+filename).filter(ee.Filter.eq('gridcode',str(gridcode)))\n",
    "            chn = area.first().geometry()\n",
    "            images = ee.ImageCollection('ECMWF/ERA5/DAILY').filter(ee.Filter.date(str(year)+'-01-01', str(year)+'-12-30')).filterBounds(chn).select('dewpoint_2m_temperature')\n",
    "            geemap.ee_export_image_collection(images, out_dir=output_dir,region=chn,crs=projxx)"
   ]
  },
  {
   "cell_type": "code",
   "execution_count": null,
   "metadata": {},
   "outputs": [],
   "source": []
  }
 ],
 "metadata": {
  "kernelspec": {
   "display_name": "Python [conda env:geoscpt]",
   "language": "python",
   "name": "conda-env-geoscpt-py"
  },
  "language_info": {
   "codemirror_mode": {
    "name": "ipython",
    "version": 3
   },
   "file_extension": ".py",
   "mimetype": "text/x-python",
   "name": "python",
   "nbconvert_exporter": "python",
   "pygments_lexer": "ipython3",
   "version": "3.7.1"
  }
 },
 "nbformat": 4,
 "nbformat_minor": 4
}
